{
 "cells": [
  {
   "cell_type": "markdown",
   "metadata": {
    "slideshow": {
     "slide_type": "slide"
    }
   },
   "source": [
    "### Computer Programming Course - Final Assignment"
   ]
  },
  {
   "cell_type": "markdown",
   "metadata": {
    "slideshow": {
     "slide_type": "slide"
    }
   },
   "source": [
    "## Assignment Task\n",
    "\n",
    "This assignment studies the social contagion of cheating in a massive multiplayer online game. The assignment tests the hypothesis that players who observe cheating become likely to adopt cheating themselves. To do so, we first count how many observers of cheaters become cheaters within a certain period of time. We call these **observer–cheater motifs**. We then simulate alternative universes in which the players played the same game but happened to be killed by someone else. Finally, we will compare how the count of the observer–cheater motifs observed in the actual data compares to what we would expect in a \"randomized\" world.\n",
    "\n",
    "**NOTE: This assignment only allows fundamental Python data types (lists, tuples, dictionaries, etc.)**"
   ]
  },
  {
   "cell_type": "markdown",
   "metadata": {
    "slideshow": {
     "slide_type": "slide"
    }
   },
   "source": [
    "### Data\n",
    "\n",
    "The name for the data folder is `assignment-final-data`.\n",
    "\n",
    "The two data files are as follows:\n",
    "\n",
    "* `cheaters.txt` – contains cheaters who played between March 1 and March 10, 2019\n",
    "    1. player account id\n",
    "    * estimated date when the player started cheating\n",
    "    * date when the player's account was banned due to cheating\n",
    "    \n",
    "* `kills.txt` – contains the killings done in 6,000 randomly selected matches played between March 1 and March 10, 2019\n",
    "    1. match id \n",
    "    * account id of the killer\n",
    "    * account id of the player who got killed\n",
    "    * time when the attack (killing) happened"
   ]
  },
  {
   "cell_type": "markdown",
   "metadata": {},
   "source": [
    "### Step 1. Observers of cheating start cheating\n",
    "\n",
    "Cheating players can be recognized because they exhibit abnormal killing patterns. We will assume that player A realizes that cheating occurs if either:\n",
    "1. cheating player B kills at least 3 other players before A gets killed in the game\n",
    "\n",
    "or \n",
    "\n",
    "2. A is killed by cheating player B.\n",
    "\n",
    "Count how many players observed at least one cheater and then started cheating within the next 5 days. We will assume here that we can only talk about a causal relationship if the two events (observing a cheater and starting to cheat) are relatively proximate in time (within 5 days of each other). In essence, we are looking for temporal motifs in which payer A observes B and then A becomes cheater, but the timing between the two events should not be more than 5 days.\n",
    "\n",
    "### Step 2. Simulating an alternative universe\n",
    "\n",
    "Of course, proximal in time does not necessarily mean causal. \n",
    "\n",
    "To establish causality, we will simulate an alternative world in which everything is the same but the events took somewhat different sequence. If observing cheating causes cheating, in the randomized world we will observe fewer observer–cheater motifs than in reality. To simulate an alternative universe, we will keep the timing and structure of interactions but randomly assign the identities of players. There are certain restrictions we need to observe, however: \n",
    "\n",
    "* Randomize within a game, not between games. \n",
    "* Since cheaters may tend to kill more or kill at a specific period in the game, we will preserve their position in the killing network. That is, only non-cheaters should be randomly reassigned. \n",
    "\n",
    "### Step 3. Evaluating reality against alternative universes \n",
    "\n",
    "Conduct 10 randomizations for the data. Then plot the number of observer–cheater motifs observed in the actual data (use a vertical line) compared to the distribution you get in the randomized data (use a histogram). What do you observe? What does this tell us? (Write 2-3 sentences to reflect on the answer. You will not be marked on what you write but wouldn't it be a waste to do all of this work and not even try to think about what the results mean?) \n",
    "\n"
   ]
  },
  {
   "cell_type": "markdown",
   "metadata": {},
   "source": [
    "## Import and run your code here"
   ]
  },
  {
   "cell_type": "code",
   "execution_count": 2,
   "metadata": {},
   "outputs": [
    {
     "name": "stdout",
     "output_type": "stream",
     "text": [
      "The number of actual observer-cheater motifs: 200\n",
      "\n",
      "The number of observer-cheater motifs across 10 simulations: [212, 191, 220, 212, 217, 199, 187, 203, 201, 210]\n"
     ]
    },
    {
     "data": {
      "image/png": "[encoded data removed]",
      "text/plain": [
       "<Figure size 576x396 with 1 Axes>"
      ]
     },
     "metadata": {
      "needs_background": "light"
     },
     "output_type": "display_data"
    }
   ],
   "source": [
    "## Import modules to estimate and show results\n",
    "from data_utils import *\n",
    "from motif_utils import *\n",
    "from simulation_utils import *\n",
    "from evaluation_utils import *\n",
    "# ensure plot appears\n",
    "%matplotlib inline\n",
    "\n",
    "## Load data from date_tools \n",
    "pubg_cheaters = get_data('../assignment-final-data/cheaters.txt')\n",
    "pubg_kills = get_data('../assignment-final-data/kills.txt')\n",
    "\n",
    "## Format dates from date_tools\n",
    "# (Note: cheater date values do not have time provided\n",
    "# in data, so times are assigned to be 00:00)\n",
    "for cheater in pubg_cheaters:\n",
    "    cheater[1] = str_to_datetime(cheater[1], from_format = 'date')\n",
    "    cheater[2] = str_to_datetime(cheater[2], from_format = 'date')\n",
    "\n",
    "for kill in pubg_kills:\n",
    "    kill[3] = str_to_datetime(kill[3], from_format = 'datetime')\n",
    "\n",
    "    \n",
    "## Step 1: Count observer-cheaters motifs using motif_tools\n",
    "pubg_actual_motif_count = count_motifs(pubg_cheaters, pubg_kills)\n",
    "print(\"The number of actual observer-cheater motifs:\", pubg_actual_motif_count)\n",
    "\n",
    "\n",
    "## Step 2: Simulate an alternate universe using simulation_tools\n",
    "pubg_simulated_motif_counts = run_simulations(pubg_cheaters, pubg_kills, 10)\n",
    "print(\"\\nThe number of observer-cheater motifs across 10 simulations:\",\\\n",
    "      pubg_simulated_motif_counts)\n",
    "\n",
    "\n",
    "## Step 3: Evaluate reality against 10 alternate universes:\n",
    "## Plot comparison using evaluation_tools\n",
    "evaluation_plot(pubg_actual_motif_count, pubg_simulated_motif_counts)"
   ]
  },
  {
   "cell_type": "markdown",
   "metadata": {},
   "source": [
    "**Brief Analysis:**\n",
    "From the above analysis, we can see that the number of actual observer-cheater motifs in the data is 200. The number of motifs across the 10 simulated universes is distributed around this number, i.e., the number of motifs in the simulated world is **not** significantly fewer. This means that the results cannot clearly establish causality (between observing cheating and cheating). \n",
    "\n",
    "In order to determine causal links, there should possibly be a larger sample size of simulations to test and perhaps formal statistical tests. From this analysis alone, it is not apparent that it is the case that observing cheating causes cheating."
   ]
  }
 ],
 "metadata": {
  "kernelspec": {
   "display_name": "Python 3",
   "language": "python",
   "name": "python3"
  },
  "language_info": {
   "codemirror_mode": {
    "name": "ipython",
    "version": 3
   },
   "file_extension": ".py",
   "mimetype": "text/x-python",
   "name": "python",
   "nbconvert_exporter": "python",
   "pygments_lexer": "ipython3",
   "version": "3.8.5"
  }
 },
 "nbformat": 4,
 "nbformat_minor": 2
}
